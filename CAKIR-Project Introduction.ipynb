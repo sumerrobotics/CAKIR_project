{
 "cells": [
  {
   "cell_type": "markdown",
   "metadata": {},
   "source": [
    "### Design of Multi-Purpose Search & Rescue Snakebots  ###\n",
    "\n",
    "### Cok Amacli Arama & Kurtarma Faaliyetleri icin Yilansi Robotlarin Tasarimi (CAKIR) ###"
   ]
  },
  {
   "cell_type": "markdown",
   "metadata": {},
   "source": [
    "CAKIR is a research project that enables to design and manufacture autonomous snakebots for search and rescue purposes. The robot has an important role for disastrous places and places that people can not enter or work inside, such as radioactive places.\n",
    "\n",
    "Main design purpose of the robot is, to search living beings and define their location inside the disastrous places as short as possible. In order to achieve this, main design criteria have to be considered as given below:\n",
    "\n",
    "**1.** Flexible robotics design to enter any point as much as possible inside the debris <br>\n",
    "**2.** Image and sound processing methods for object detection <br>\n",
    "**3.** Artificial Intelligence for classification of the objects and decisision-making problems <br>\n",
    "**4.** Novel navigation algorithms to perform SLAM applications for unknown <br>"
   ]
  }
 ],
 "metadata": {
  "kernelspec": {
   "display_name": "Python 3",
   "language": "python",
   "name": "python3"
  },
  "language_info": {
   "codemirror_mode": {
    "name": "ipython",
    "version": 3
   },
   "file_extension": ".py",
   "mimetype": "text/x-python",
   "name": "python",
   "nbconvert_exporter": "python",
   "pygments_lexer": "ipython3",
   "version": "3.8.5"
  }
 },
 "nbformat": 4,
 "nbformat_minor": 4
}
