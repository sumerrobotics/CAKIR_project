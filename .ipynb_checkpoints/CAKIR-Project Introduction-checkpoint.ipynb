{
 "cells": [
  {
   "cell_type": "markdown",
   "metadata": {},
   "source": [
    "### Design of Multi-Purpose Search & Rescue Snakebots  ###\n",
    "\n",
    "### Cok Amacli Arama & Kurtarma Faaliyetleri icin Yilansi Robotlarin Tasarimi (CAKIR) ###"
   ]
  },
  {
   "cell_type": "markdown",
   "metadata": {},
   "source": [
    "CAKIR is a research project that enables to design and manufacture autonomous snakebots for search and rescue purposes. The robot has an important role for disastrous places and places that people can not enter or work inside, such as radioactive places.\n",
    "\n",
    "Main design purpose of the robot is, to search living beings and define their location inside the disastrous places as short as possible. In order to achieve this, main design criteria have to be considered as given below:\n",
    "\n",
    "**1.** Flexible robotics design to enter any point as much as possible inside the debris <br>\n",
    "**2.** Image and sound processing methods for object detection <br>\n",
    "**3.** Artificial Intelligence for classification of the objects and decisision-making problems <br>\n",
    "**4.** Novel navigation algorithms to perform SLAM applications for unknown environments <br>\n",
    "\n",
    "\n",
    "**References** <br>\n",
    "**[1]**\tBing, Z., Lemke, C., Cheng, L., Huang, K., & Knoll, A. (2020). Energy-efficient and damage-recovery slithering gait design for a snake-like robot based on reinforcement learning and inverse reinforcement learning. Neural Networks, 323-333. <br>\n",
    "**[2]**\tCao, Y., Liu, Y., Chen, Y., Zhu, L., Yan, Y., & Chen, X. (2017). A novel slithering locomotion mechanism for a snake-like soft robot. Journal of Mechanics and Physics of Solids, 304-320. <br>\n",
    "**[3]**\tMukosaka, N., Tanev, I., & Shimohara, K. (2013). Performance of Incremental Genetic Programming on Adaptability of Snake-like Robot. 17th Asia Pacific Symposium on Intelligent and Evolutionary Systems, IES2013 (pp. 152-157). Procedia Computer Science. <br>\n",
    "**[4]**\tOmisore, O. M., Han, S., Ren, L., Elazab, A., Hui, L., Abdelhamid, T., . . . Wang, L. (2018). Deeply-learnt damped least-squares (DL-DLS) method for inverse kinematics of snale-like robots . Neural Networks, 34-47. <br>\n",
    "**[5]**\tPfotzer, L., Klemm, S., Roennau, A., Zöllner, J. M., & Dillmann, R. (2017). Autonomous navigation for reconfigurable snake-like robots in challenging, unknown environments. Robotics and Autonomous Systems , 123-135. <br>\n",
    "**[6]**\tTakagi, Y., Ishikawa, M., & Osuka, K. (2019). Development and Control Experiment of a Snake-like Robot with Controllable Side-Thrust Links. (pp. 229-234). IFAC. <br>\n",
    "**[7]**\tWoodford, G. W., du Plessis, M. C., & Pretorius, C. J. (2017). Concurrent Controller and Simulator Neural Network Development for a Snake-like Robot in Evolutionary Robotics. Robotics and Autonomous Systems, 37-50. <br>\n",
    "\n"
   ]
  }
 ],
 "metadata": {
  "kernelspec": {
   "display_name": "Python 3",
   "language": "python",
   "name": "python3"
  },
  "language_info": {
   "codemirror_mode": {
    "name": "ipython",
    "version": 3
   },
   "file_extension": ".py",
   "mimetype": "text/x-python",
   "name": "python",
   "nbconvert_exporter": "python",
   "pygments_lexer": "ipython3",
   "version": "3.8.5"
  }
 },
 "nbformat": 4,
 "nbformat_minor": 4
}
